{
 "cells": [
  {
   "cell_type": "code",
   "execution_count": 79,
   "metadata": {
    "colab": {
     "base_uri": "https://localhost:8080/"
    },
    "id": "W8K-jOL4P9au",
    "outputId": "15ba9d11-459e-459c-c51c-1860a77c8a7b"
   },
   "outputs": [
    {
     "name": "stdout",
     "output_type": "stream",
     "text": [
      "Requirement already satisfied: vecstack in /usr/local/lib/python3.10/dist-packages (0.4.0)\n",
      "Requirement already satisfied: numpy in /usr/local/lib/python3.10/dist-packages (from vecstack) (1.23.5)\n",
      "Requirement already satisfied: scipy in /usr/local/lib/python3.10/dist-packages (from vecstack) (1.11.3)\n",
      "Requirement already satisfied: scikit-learn>=0.18 in /usr/local/lib/python3.10/dist-packages (from vecstack) (1.2.2)\n",
      "Requirement already satisfied: joblib>=1.1.1 in /usr/local/lib/python3.10/dist-packages (from scikit-learn>=0.18->vecstack) (1.3.2)\n",
      "Requirement already satisfied: threadpoolctl>=2.0.0 in /usr/local/lib/python3.10/dist-packages (from scikit-learn>=0.18->vecstack) (3.2.0)\n"
     ]
    }
   ],
   "source": [
    "#importing all necessary libraries\n",
    "\n",
    "!pip install vecstack\n",
    "\n",
    "from vecstack import stacking\n",
    "import pandas as pd\n",
    "import numpy as np\n",
    "\n",
    "\n",
    "from sklearn.ensemble import RandomForestRegressor\n",
    "from sklearn.tree import DecisionTreeRegressor\n",
    "from sklearn.ensemble import GradientBoostingRegressor\n",
    "from sklearn.neural_network import MLPRegressor\n",
    "from sklearn.metrics import mean_squared_error\n",
    "from sklearn.model_selection import GridSearchCV\n",
    "from sklearn.model_selection import RandomizedSearchCV\n",
    "from sklearn.model_selection import cross_val_score\n",
    "from sklearn.model_selection import train_test_split\n",
    "from sklearn.preprocessing import OneHotEncoder\n",
    "\n",
    "import warnings\n",
    "warnings.filterwarnings(\"ignore\")"
   ]
  },
  {
   "cell_type": "code",
   "execution_count": 80,
   "metadata": {
    "colab": {
     "base_uri": "https://localhost:8080/"
    },
    "id": "hEMU3lkvRCgK",
    "outputId": "5fad10fd-4641-447e-91a4-bb9293521518"
   },
   "outputs": [
    {
     "name": "stdout",
     "output_type": "stream",
     "text": [
      "(137, 43)\n",
      "(100000, 42)\n"
     ]
    }
   ],
   "source": [
    "#loading training and testing datasets\n",
    "\n",
    "trainfile = r'/content/train.csv'\n",
    "train = pd.read_csv(trainfile)\n",
    "\n",
    "testfile = r'/content/test.csv'\n",
    "test = pd.read_csv(testfile)\n",
    "\n",
    "print(train.shape)\n",
    "print(test.shape)"
   ]
  },
  {
   "cell_type": "code",
   "execution_count": 81,
   "metadata": {
    "colab": {
     "base_uri": "https://localhost:8080/"
    },
    "id": "GYKEp6XARCzO",
    "outputId": "54f47882-ff52-4c24-fac9-9562f9ccffcd"
   },
   "outputs": [
    {
     "name": "stdout",
     "output_type": "stream",
     "text": [
      "               Id          P1          P2          P3          P4          P5  \\\n",
      "count  137.000000  137.000000  137.000000  137.000000  137.000000  137.000000   \n",
      "mean    68.000000    4.014599    4.408759    4.317518    4.372263    2.007299   \n",
      "std     39.692569    2.910391    1.514900    1.032337    1.016462    1.209620   \n",
      "min      0.000000    1.000000    1.000000    0.000000    3.000000    1.000000   \n",
      "25%     34.000000    2.000000    4.000000    4.000000    4.000000    1.000000   \n",
      "50%     68.000000    3.000000    5.000000    4.000000    4.000000    2.000000   \n",
      "75%    102.000000    4.000000    5.000000    5.000000    5.000000    2.000000   \n",
      "max    136.000000   12.000000    7.500000    7.500000    7.500000    8.000000   \n",
      "\n",
      "               P6          P7          P8          P9  ...         P29  \\\n",
      "count  137.000000  137.000000  137.000000  137.000000  ...  137.000000   \n",
      "mean     3.357664    5.423358    5.153285    5.445255  ...    3.135036   \n",
      "std      2.134235    2.296809    1.858567    1.834793  ...    1.680887   \n",
      "min      1.000000    1.000000    1.000000    4.000000  ...    0.000000   \n",
      "25%      2.000000    5.000000    4.000000    4.000000  ...    2.500000   \n",
      "50%      3.000000    5.000000    5.000000    5.000000  ...    3.000000   \n",
      "75%      4.000000    5.000000    5.000000    5.000000  ...    3.000000   \n",
      "max     10.000000   10.000000   10.000000   10.000000  ...    7.500000   \n",
      "\n",
      "              P30         P31         P32         P33         P34         P35  \\\n",
      "count  137.000000  137.000000  137.000000  137.000000  137.000000  137.000000   \n",
      "mean     2.729927    1.941606    2.525547    1.138686    2.489051    2.029197   \n",
      "std      5.536647    3.512093    5.230117    1.698540    5.165093    3.436272   \n",
      "min      0.000000    0.000000    0.000000    0.000000    0.000000    0.000000   \n",
      "25%      0.000000    0.000000    0.000000    0.000000    0.000000    0.000000   \n",
      "50%      0.000000    0.000000    0.000000    0.000000    0.000000    0.000000   \n",
      "75%      4.000000    3.000000    3.000000    2.000000    3.000000    4.000000   \n",
      "max     25.000000   15.000000   25.000000    6.000000   24.000000   15.000000   \n",
      "\n",
      "              P36         P37       revenue  \n",
      "count  137.000000  137.000000  1.370000e+02  \n",
      "mean     2.211679    1.116788  4.453533e+06  \n",
      "std      4.168211    1.790768  2.576072e+06  \n",
      "min      0.000000    0.000000  1.149870e+06  \n",
      "25%      0.000000    0.000000  2.999068e+06  \n",
      "50%      0.000000    0.000000  3.939804e+06  \n",
      "75%      3.000000    2.000000  5.166635e+06  \n",
      "max     20.000000    8.000000  1.969694e+07  \n",
      "\n",
      "[8 rows x 39 columns]\n",
      "         Open Date      City  City Group Type\n",
      "count          137       137         137  137\n",
      "unique         134        34           2    3\n",
      "top     02/23/2010  İstanbul  Big Cities   FC\n",
      "freq             2        50          78   76\n"
     ]
    }
   ],
   "source": [
    "#summary statistics for features in train data\n",
    "\n",
    "print(train.describe())\n",
    "print(train.describe(include=['object']))"
   ]
  },
  {
   "cell_type": "code",
   "execution_count": 82,
   "metadata": {
    "colab": {
     "base_uri": "https://localhost:8080/"
    },
    "id": "ffvdFsyvRC38",
    "outputId": "1ddcbd20-4fa9-4661-e75e-1787e7b60459"
   },
   "outputs": [
    {
     "name": "stdout",
     "output_type": "stream",
     "text": [
      "                  Id             P1             P2             P3  \\\n",
      "count  100000.000000  100000.000000  100000.000000  100000.000000   \n",
      "mean    49999.500000       4.088030       4.428085       4.215325   \n",
      "std     28867.657797       2.812963       1.428865       0.842161   \n",
      "min         0.000000       1.000000       1.000000       0.000000   \n",
      "25%     24999.750000       2.000000       3.750000       4.000000   \n",
      "50%     49999.500000       3.000000       5.000000       4.000000   \n",
      "75%     74999.250000       4.000000       5.000000       4.000000   \n",
      "max     99999.000000      15.000000       7.500000       6.000000   \n",
      "\n",
      "                  P4             P5             P6            P7  \\\n",
      "count  100000.000000  100000.000000  100000.000000  100000.00000   \n",
      "mean        4.396025       1.989590       2.881900       5.30051   \n",
      "std         1.035827       1.065314       1.531429       2.17858   \n",
      "min         2.000000       1.000000       1.000000       1.00000   \n",
      "25%         4.000000       1.000000       2.000000       5.00000   \n",
      "50%         4.000000       2.000000       2.000000       5.00000   \n",
      "75%         5.000000       2.000000       4.000000       5.00000   \n",
      "max         7.500000       6.000000      10.000000      10.00000   \n",
      "\n",
      "                 P8             P9  ...            P28            P29  \\\n",
      "count  100000.00000  100000.000000  ...  100000.000000  100000.000000   \n",
      "mean        4.93100       5.251380  ...       3.233785       3.084000   \n",
      "std         1.71849       1.702632  ...       2.136694       1.783927   \n",
      "min         1.00000       4.000000  ...       1.000000       0.000000   \n",
      "25%         4.00000       4.000000  ...       2.000000       2.000000   \n",
      "50%         5.00000       5.000000  ...       3.000000       3.000000   \n",
      "75%         5.00000       5.000000  ...       4.000000       3.000000   \n",
      "max        10.00000      10.000000  ...      12.500000      10.000000   \n",
      "\n",
      "                 P30            P31            P32            P33  \\\n",
      "count  100000.000000  100000.000000  100000.000000  100000.000000   \n",
      "mean        2.083300       1.193330       1.942640       0.987430   \n",
      "std         4.309479       2.307944       3.971298       1.534808   \n",
      "min         0.000000       0.000000       0.000000       0.000000   \n",
      "25%         0.000000       0.000000       0.000000       0.000000   \n",
      "50%         0.000000       0.000000       0.000000       0.000000   \n",
      "75%         3.000000       1.000000       3.000000       2.000000   \n",
      "max        25.000000      15.000000      25.000000       6.000000   \n",
      "\n",
      "                 P34            P35            P36            P37  \n",
      "count  100000.000000  100000.000000  100000.000000  100000.000000  \n",
      "mean        2.108670       1.832830       1.968890       0.973500  \n",
      "std         4.685414       3.228769       3.805773       1.677267  \n",
      "min         0.000000       0.000000       0.000000       0.000000  \n",
      "25%         0.000000       0.000000       0.000000       0.000000  \n",
      "50%         0.000000       0.000000       0.000000       0.000000  \n",
      "75%         3.000000       4.000000       3.000000       2.000000  \n",
      "max        30.000000      15.000000      20.000000       8.000000  \n",
      "\n",
      "[8 rows x 38 columns]\n",
      "         Open Date      City City Group    Type\n",
      "count       100000    100000     100000  100000\n",
      "unique         310        57          2       4\n",
      "top     07/10/2013  İstanbul      Other      FC\n",
      "freq           645     34087      50728   57019\n"
     ]
    }
   ],
   "source": [
    "#summary statistics for features in test data\n",
    "\n",
    "print(test.describe())\n",
    "print(test.describe(include=['object']))"
   ]
  },
  {
   "cell_type": "code",
   "execution_count": 83,
   "metadata": {
    "colab": {
     "base_uri": "https://localhost:8080/"
    },
    "id": "zNeEaavoRC8Y",
    "outputId": "7300c84c-52a3-411f-b4fe-7dd8388d89f5"
   },
   "outputs": [
    {
     "data": {
      "text/plain": [
       "Id            0\n",
       "Open Date     0\n",
       "City          0\n",
       "City Group    0\n",
       "Type          0\n",
       "P1            0\n",
       "P2            0\n",
       "P3            0\n",
       "P4            0\n",
       "P5            0\n",
       "P6            0\n",
       "P7            0\n",
       "P8            0\n",
       "P9            0\n",
       "P10           0\n",
       "P11           0\n",
       "P12           0\n",
       "P13           0\n",
       "P14           0\n",
       "P15           0\n",
       "P16           0\n",
       "P17           0\n",
       "P18           0\n",
       "P19           0\n",
       "P20           0\n",
       "P21           0\n",
       "P22           0\n",
       "P23           0\n",
       "P24           0\n",
       "P25           0\n",
       "P26           0\n",
       "P27           0\n",
       "P28           0\n",
       "P29           0\n",
       "P30           0\n",
       "P31           0\n",
       "P32           0\n",
       "P33           0\n",
       "P34           0\n",
       "P35           0\n",
       "P36           0\n",
       "P37           0\n",
       "revenue       0\n",
       "dtype: int64"
      ]
     },
     "execution_count": 83,
     "metadata": {},
     "output_type": "execute_result"
    }
   ],
   "source": [
    "#checking for null values in train data\n",
    "\n",
    "train.isna().sum()"
   ]
  },
  {
   "cell_type": "code",
   "execution_count": 84,
   "metadata": {
    "colab": {
     "base_uri": "https://localhost:8080/"
    },
    "id": "XtbGxrhhRDAh",
    "outputId": "e4209468-8603-4bee-c702-9e223578fe15"
   },
   "outputs": [
    {
     "data": {
      "text/plain": [
       "Id            0\n",
       "Open Date     0\n",
       "City          0\n",
       "City Group    0\n",
       "Type          0\n",
       "P1            0\n",
       "P2            0\n",
       "P3            0\n",
       "P4            0\n",
       "P5            0\n",
       "P6            0\n",
       "P7            0\n",
       "P8            0\n",
       "P9            0\n",
       "P10           0\n",
       "P11           0\n",
       "P12           0\n",
       "P13           0\n",
       "P14           0\n",
       "P15           0\n",
       "P16           0\n",
       "P17           0\n",
       "P18           0\n",
       "P19           0\n",
       "P20           0\n",
       "P21           0\n",
       "P22           0\n",
       "P23           0\n",
       "P24           0\n",
       "P25           0\n",
       "P26           0\n",
       "P27           0\n",
       "P28           0\n",
       "P29           0\n",
       "P30           0\n",
       "P31           0\n",
       "P32           0\n",
       "P33           0\n",
       "P34           0\n",
       "P35           0\n",
       "P36           0\n",
       "P37           0\n",
       "dtype: int64"
      ]
     },
     "execution_count": 84,
     "metadata": {},
     "output_type": "execute_result"
    }
   ],
   "source": [
    "#checking for null values in test data\n",
    "\n",
    "test.isna().sum()"
   ]
  },
  {
   "cell_type": "code",
   "execution_count": 85,
   "metadata": {
    "colab": {
     "base_uri": "https://localhost:8080/"
    },
    "id": "ynxleEiYU8yy",
    "outputId": "4d5c117a-c5b7-47ab-aeb0-ccd916328b76"
   },
   "outputs": [
    {
     "name": "stdout",
     "output_type": "stream",
     "text": [
      "<class 'pandas.core.frame.DataFrame'>\n",
      "RangeIndex: 137 entries, 0 to 136\n",
      "Data columns (total 43 columns):\n",
      " #   Column      Non-Null Count  Dtype  \n",
      "---  ------      --------------  -----  \n",
      " 0   Id          137 non-null    int64  \n",
      " 1   Open Date   137 non-null    object \n",
      " 2   City        137 non-null    object \n",
      " 3   City Group  137 non-null    object \n",
      " 4   Type        137 non-null    object \n",
      " 5   P1          137 non-null    int64  \n",
      " 6   P2          137 non-null    float64\n",
      " 7   P3          137 non-null    float64\n",
      " 8   P4          137 non-null    float64\n",
      " 9   P5          137 non-null    int64  \n",
      " 10  P6          137 non-null    int64  \n",
      " 11  P7          137 non-null    int64  \n",
      " 12  P8          137 non-null    int64  \n",
      " 13  P9          137 non-null    int64  \n",
      " 14  P10         137 non-null    int64  \n",
      " 15  P11         137 non-null    int64  \n",
      " 16  P12         137 non-null    int64  \n",
      " 17  P13         137 non-null    float64\n",
      " 18  P14         137 non-null    int64  \n",
      " 19  P15         137 non-null    int64  \n",
      " 20  P16         137 non-null    int64  \n",
      " 21  P17         137 non-null    int64  \n",
      " 22  P18         137 non-null    int64  \n",
      " 23  P19         137 non-null    int64  \n",
      " 24  P20         137 non-null    int64  \n",
      " 25  P21         137 non-null    int64  \n",
      " 26  P22         137 non-null    int64  \n",
      " 27  P23         137 non-null    int64  \n",
      " 28  P24         137 non-null    int64  \n",
      " 29  P25         137 non-null    int64  \n",
      " 30  P26         137 non-null    float64\n",
      " 31  P27         137 non-null    float64\n",
      " 32  P28         137 non-null    float64\n",
      " 33  P29         137 non-null    float64\n",
      " 34  P30         137 non-null    int64  \n",
      " 35  P31         137 non-null    int64  \n",
      " 36  P32         137 non-null    int64  \n",
      " 37  P33         137 non-null    int64  \n",
      " 38  P34         137 non-null    int64  \n",
      " 39  P35         137 non-null    int64  \n",
      " 40  P36         137 non-null    int64  \n",
      " 41  P37         137 non-null    int64  \n",
      " 42  revenue     137 non-null    float64\n",
      "dtypes: float64(9), int64(30), object(4)\n",
      "memory usage: 46.1+ KB\n",
      "None\n"
     ]
    }
   ],
   "source": [
    "#checking the data types of columns in the train set\n",
    "\n",
    "print(train.info())"
   ]
  },
  {
   "cell_type": "code",
   "execution_count": 86,
   "metadata": {
    "colab": {
     "base_uri": "https://localhost:8080/"
    },
    "id": "_IJgbnRfU7Kr",
    "outputId": "3930be83-7675-4083-89a7-d0cb84cc0117"
   },
   "outputs": [
    {
     "name": "stdout",
     "output_type": "stream",
     "text": [
      "<class 'pandas.core.frame.DataFrame'>\n",
      "RangeIndex: 100000 entries, 0 to 99999\n",
      "Data columns (total 42 columns):\n",
      " #   Column      Non-Null Count   Dtype  \n",
      "---  ------      --------------   -----  \n",
      " 0   Id          100000 non-null  int64  \n",
      " 1   Open Date   100000 non-null  object \n",
      " 2   City        100000 non-null  object \n",
      " 3   City Group  100000 non-null  object \n",
      " 4   Type        100000 non-null  object \n",
      " 5   P1          100000 non-null  int64  \n",
      " 6   P2          100000 non-null  float64\n",
      " 7   P3          100000 non-null  float64\n",
      " 8   P4          100000 non-null  float64\n",
      " 9   P5          100000 non-null  int64  \n",
      " 10  P6          100000 non-null  int64  \n",
      " 11  P7          100000 non-null  int64  \n",
      " 12  P8          100000 non-null  int64  \n",
      " 13  P9          100000 non-null  int64  \n",
      " 14  P10         100000 non-null  int64  \n",
      " 15  P11         100000 non-null  int64  \n",
      " 16  P12         100000 non-null  int64  \n",
      " 17  P13         100000 non-null  float64\n",
      " 18  P14         100000 non-null  int64  \n",
      " 19  P15         100000 non-null  int64  \n",
      " 20  P16         100000 non-null  int64  \n",
      " 21  P17         100000 non-null  int64  \n",
      " 22  P18         100000 non-null  int64  \n",
      " 23  P19         100000 non-null  int64  \n",
      " 24  P20         100000 non-null  int64  \n",
      " 25  P21         100000 non-null  int64  \n",
      " 26  P22         100000 non-null  int64  \n",
      " 27  P23         100000 non-null  int64  \n",
      " 28  P24         100000 non-null  int64  \n",
      " 29  P25         100000 non-null  int64  \n",
      " 30  P26         100000 non-null  float64\n",
      " 31  P27         100000 non-null  float64\n",
      " 32  P28         100000 non-null  float64\n",
      " 33  P29         100000 non-null  float64\n",
      " 34  P30         100000 non-null  int64  \n",
      " 35  P31         100000 non-null  int64  \n",
      " 36  P32         100000 non-null  int64  \n",
      " 37  P33         100000 non-null  int64  \n",
      " 38  P34         100000 non-null  int64  \n",
      " 39  P35         100000 non-null  int64  \n",
      " 40  P36         100000 non-null  int64  \n",
      " 41  P37         100000 non-null  int64  \n",
      "dtypes: float64(8), int64(30), object(4)\n",
      "memory usage: 32.0+ MB\n",
      "None\n"
     ]
    }
   ],
   "source": [
    "#check the data types of columns in the test set\n",
    "\n",
    "print(test.info())"
   ]
  },
  {
   "cell_type": "code",
   "execution_count": 87,
   "metadata": {
    "id": "tzNyTmrgU7M_"
   },
   "outputs": [],
   "source": [
    "#eliminating Id column from train data\n",
    "\n",
    "train=train.drop('Id',axis=1)"
   ]
  },
  {
   "cell_type": "code",
   "execution_count": 88,
   "metadata": {
    "id": "9BCCV2021cnH"
   },
   "outputs": [],
   "source": [
    "#eliminating Id column from test data\n",
    "\n",
    "test=test.drop('Id',axis=1)"
   ]
  },
  {
   "cell_type": "code",
   "execution_count": 89,
   "metadata": {
    "id": "JGO3lFfk1cp2"
   },
   "outputs": [],
   "source": [
    "#separating features from target variable\n",
    "\n",
    "X_train=train.iloc[:, :-1]\n",
    "Y_train=train.iloc[:, -1]\n",
    "X_test=test"
   ]
  },
  {
   "cell_type": "code",
   "execution_count": 90,
   "metadata": {
    "colab": {
     "base_uri": "https://localhost:8080/"
    },
    "id": "xnPr1zyS1cuf",
    "outputId": "f375d99e-b43d-4bfc-b136-a7d87630c640"
   },
   "outputs": [
    {
     "data": {
      "text/plain": [
       "revenue       100000\n",
       "P28                0\n",
       "P20                0\n",
       "P21                0\n",
       "P22                0\n",
       "P23                0\n",
       "P24                0\n",
       "P25                0\n",
       "P26                0\n",
       "P27                0\n",
       "P29                0\n",
       "City               0\n",
       "P30                0\n",
       "P31                0\n",
       "P32                0\n",
       "P33                0\n",
       "P34                0\n",
       "P35                0\n",
       "P36                0\n",
       "P37                0\n",
       "P19                0\n",
       "Open Date          0\n",
       "P17                0\n",
       "P16                0\n",
       "City Group         0\n",
       "Type               0\n",
       "P1                 0\n",
       "P2                 0\n",
       "P3                 0\n",
       "P4                 0\n",
       "P5                 0\n",
       "P6                 0\n",
       "P7                 0\n",
       "P8                 0\n",
       "P9                 0\n",
       "P10                0\n",
       "P11                0\n",
       "P12                0\n",
       "P13                0\n",
       "P14                0\n",
       "P15                0\n",
       "P18                0\n",
       "dtype: int64"
      ]
     },
     "execution_count": 90,
     "metadata": {},
     "output_type": "execute_result"
    }
   ],
   "source": [
    "#checking null values\n",
    "\n",
    "data = pd.concat([train, test], keys=[0,1])\n",
    "data.isnull().sum().sort_values(ascending=False)"
   ]
  },
  {
   "cell_type": "code",
   "execution_count": 91,
   "metadata": {
    "id": "k34Y9hMm1cwO"
   },
   "outputs": [],
   "source": [
    "categorical_cols = train.select_dtypes(exclude=['float','int']).columns"
   ]
  },
  {
   "cell_type": "code",
   "execution_count": 92,
   "metadata": {
    "id": "VU-2Tqlk1cy5"
   },
   "outputs": [],
   "source": [
    "#one-hot encoding\n",
    "\n",
    "features = ['Open Date', 'City', 'City Group', 'Type']\n",
    "ohe = OneHotEncoder(handle_unknown='ignore',sparse=False)\n",
    "Xcat = pd.DataFrame(ohe.fit_transform(X_train[features]),columns=ohe.get_feature_names_out(),index=X_train.index)\n",
    "X_train = pd.concat([X_train,Xcat],axis=1)\n",
    "X_train.drop(labels=features,axis=1,inplace=True)"
   ]
  },
  {
   "cell_type": "code",
   "execution_count": 93,
   "metadata": {
    "id": "qs7nwxlb1dhP"
   },
   "outputs": [],
   "source": [
    "cat = pd.DataFrame(ohe.transform(X_test[features]),columns=ohe.get_feature_names_out(),index=X_test.index)\n",
    "X_test = pd.concat([X_test,cat],axis=1)\n",
    "X_test.drop(labels=features,axis=1,inplace=True)"
   ]
  },
  {
   "cell_type": "code",
   "execution_count": 94,
   "metadata": {
    "colab": {
     "base_uri": "https://localhost:8080/"
    },
    "id": "6M-XBYU81dkB",
    "outputId": "dbd40dd3-11c8-4073-d0bb-3b1be5e713c2"
   },
   "outputs": [
    {
     "name": "stdout",
     "output_type": "stream",
     "text": [
      "RMSE (training) for Random Forest:996387780103.042725\n"
     ]
    }
   ],
   "source": [
    "#random forest regressor\n",
    "\n",
    "rf = RandomForestRegressor()\n",
    "rf.fit(X_train, Y_train)\n",
    "Y_pred_rf=rf.predict(X_train)\n",
    "\n",
    "mean_squared_error(Y_train,Y_pred_rf)\n",
    "print(\"RMSE (training) for Random Forest:{0:10f}\".format(mean_squared_error(Y_train,Y_pred_rf)))\n",
    "Y_pred_testrf=rf.predict(X_test)"
   ]
  },
  {
   "cell_type": "code",
   "execution_count": 95,
   "metadata": {
    "id": "CcueoMY61dmh"
   },
   "outputs": [],
   "source": [
    "y_predrf=pd.DataFrame(Y_pred_testrf)\n",
    "y_pred_rf=pd.concat([test.iloc[:,0],y_predrf],axis=1)\n",
    "y_pred_rf.columns=['Id', 'Prediction']\n",
    "y_pred_rf.to_csv(r'/content/drive/MyDrive/Colab Notebooks/rf.csv')"
   ]
  },
  {
   "cell_type": "code",
   "execution_count": 96,
   "metadata": {
    "colab": {
     "base_uri": "https://localhost:8080/"
    },
    "id": "3uB1kD0E8e9w",
    "outputId": "00bd131f-0cea-4abb-cec0-aaf14a8501e1"
   },
   "outputs": [
    {
     "name": "stdout",
     "output_type": "stream",
     "text": [
      "RMSE (training) for Decision Tree:  0.000000\n"
     ]
    }
   ],
   "source": [
    "#decision tree regressor\n",
    "\n",
    "dt = DecisionTreeRegressor()\n",
    "dt.fit(X_train, Y_train)\n",
    "Y_pred_dt=dt.predict(X_train)\n",
    "\n",
    "mean_squared_error(Y_train,Y_pred_dt)\n",
    "print(\"RMSE (training) for Decision Tree:{0:10f}\".format(mean_squared_error(Y_train,Y_pred_dt)))\n",
    "Y_pred_testdt=dt.predict(X_test)"
   ]
  },
  {
   "cell_type": "code",
   "execution_count": 97,
   "metadata": {
    "id": "hxw99sdi8e_5"
   },
   "outputs": [],
   "source": [
    "y_preddt=pd.DataFrame(Y_pred_testdt)\n",
    "y_pred_dt=pd.concat([test.iloc[:,0],y_preddt],axis=1)\n",
    "y_pred_dt.columns=['Id', 'Prediction']\n",
    "y_pred_dt.to_csv(r'/content/drive/MyDrive/Colab Notebooks/dt.csv')"
   ]
  },
  {
   "cell_type": "code",
   "execution_count": 98,
   "metadata": {
    "colab": {
     "base_uri": "https://localhost:8080/"
    },
    "id": "TqYDv77L8fCT",
    "outputId": "c26ce992-3f83-4841-c553-ad7b5ecd9bed"
   },
   "outputs": [
    {
     "name": "stdout",
     "output_type": "stream",
     "text": [
      "RMSE (training) for MLP:26416454970812.378906\n"
     ]
    }
   ],
   "source": [
    "#multilayer perceptron regressor\n",
    "\n",
    "mlp = MLPRegressor()\n",
    "mlp.fit(X_train, Y_train)\n",
    "Y_pred_mlp=mlp.predict(X_train)\n",
    "\n",
    "mean_squared_error(Y_train,Y_pred_mlp)\n",
    "print(\"RMSE (training) for MLP:{0:10f}\".format(mean_squared_error(Y_train,Y_pred_mlp)))\n",
    "Y_pred_testmlp=mlp.predict(X_test)"
   ]
  },
  {
   "cell_type": "code",
   "execution_count": 99,
   "metadata": {
    "id": "7a_fSMhQ8fEo"
   },
   "outputs": [],
   "source": [
    "y_predmlp=pd.DataFrame(Y_pred_testmlp)\n",
    "y_pred_mlp=pd.concat([test.iloc[:,0],y_predmlp],axis=1)\n",
    "y_pred_mlp.columns=['Id', 'Prediction']\n",
    "y_pred_mlp.to_csv(r'/content/drive/MyDrive/Colab Notebooks/mlp.csv')"
   ]
  },
  {
   "cell_type": "code",
   "execution_count": 100,
   "metadata": {
    "colab": {
     "base_uri": "https://localhost:8080/"
    },
    "id": "q-Cxxpen8fKT",
    "outputId": "ed9fa80f-bef6-4eff-d6c2-02b840210e36"
   },
   "outputs": [
    {
     "name": "stdout",
     "output_type": "stream",
     "text": [
      "Best Hyperparameters: {'max_depth': 7, 'max_features': None, 'min_samples_leaf': 15, 'min_samples_split': 12, 'random_state': 42}\n"
     ]
    }
   ],
   "source": [
    "#finding best hyperparameters for decision tree\n",
    "\n",
    "from sklearn.model_selection import RandomizedSearchCV\n",
    "from sklearn.tree import DecisionTreeRegressor\n",
    "from scipy.stats import randint\n",
    "\n",
    "param_dist = {\n",
    "    'max_depth': randint(1, 20),\n",
    "    'min_samples_split': randint(2, 20),\n",
    "    'min_samples_leaf': randint(1, 20),\n",
    "    'max_features': ['auto', 'sqrt', 'log2', None],\n",
    "    'random_state': [42]\n",
    "}\n",
    "\n",
    "random_search = RandomizedSearchCV(dt, param_distributions=param_dist, n_iter=100, cv=5, n_jobs=-1, random_state=42)\n",
    "random_search.fit(X_train, Y_train)\n",
    "\n",
    "print(\"Best Hyperparameters:\", random_search.best_params_)\n",
    "best_params=random_search.best_params_"
   ]
  },
  {
   "cell_type": "code",
   "execution_count": 101,
   "metadata": {
    "colab": {
     "base_uri": "https://localhost:8080/"
    },
    "id": "rgiIup4tIX42",
    "outputId": "5accf298-1418-4337-d2e3-ac26009d1bf9"
   },
   "outputs": [
    {
     "name": "stdout",
     "output_type": "stream",
     "text": [
      "RMSE (training) for Random Forest:4753276684743.322266\n"
     ]
    }
   ],
   "source": [
    "#decision tree with hyperparameter tuning\n",
    "\n",
    "dt2 = DecisionTreeRegressor(**random_search.best_params_)\n",
    "dt2.fit(X_train, Y_train)\n",
    "Y_pred_dt2=dt2.predict(X_train)\n",
    "\n",
    "mean_squared_error(Y_train,Y_pred_dt2)\n",
    "print(\"RMSE (training) for Random Forest:{0:10f}\".format(mean_squared_error(Y_train,Y_pred_dt2)))\n",
    "Y_pred_testdt2=dt2.predict(X_test)\n",
    "\n",
    "y_preddt2=pd.DataFrame(Y_pred_testdt2)\n",
    "y_pred_dtht=pd.concat([test.iloc[:,0],y_preddt2],axis=1)\n",
    "y_pred_dtht.columns=['Id', 'Prediction']\n",
    "y_pred_dtht.to_csv(r'/content/drive/MyDrive/Colab Notebooks/dt_ht.csv')"
   ]
  },
  {
   "cell_type": "code",
   "execution_count": 102,
   "metadata": {
    "colab": {
     "base_uri": "https://localhost:8080/"
    },
    "id": "mEVU-hG5IX7U",
    "outputId": "51c9b8de-67d7-469f-8c5a-fa75052dea6f"
   },
   "outputs": [
    {
     "name": "stdout",
     "output_type": "stream",
     "text": [
      "task:         [regression]\n",
      "metric:       [mean_absolute_error]\n",
      "mode:         [oof_pred_bag]\n",
      "n_models:     [3]\n",
      "\n",
      "model  0:     [RandomForestRegressor]\n",
      "    fold  0:  [1616697.17321429]\n",
      "    fold  1:  [1350409.22285714]\n",
      "    fold  2:  [1124038.12333333]\n",
      "    fold  3:  [2212642.52444444]\n",
      "    fold  4:  [1648161.73296296]\n",
      "    ----\n",
      "    MEAN:     [1590389.75536243] + [365048.67920261]\n",
      "    FULL:     [1588830.09759124]\n",
      "\n",
      "model  1:     [DecisionTreeRegressor]\n",
      "    fold  0:  [2064912.39285714]\n",
      "    fold  1:  [2075267.39285714]\n",
      "    fold  2:  [1958618.33333333]\n",
      "    fold  3:  [2478470.18518519]\n",
      "    fold  4:  [1676270.00000000]\n",
      "    ----\n",
      "    MEAN:     [2050707.66084656] + [257864.20386652]\n",
      "    FULL:     [2050990.61313869]\n",
      "\n",
      "model  2:     [MLPRegressor]\n",
      "    fold  0:  [4976243.18828333]\n",
      "    fold  1:  [3899032.23902949]\n",
      "    fold  2:  [4380172.24515538]\n",
      "    fold  3:  [5203148.93993050]\n",
      "    fold  4:  [3807363.58755862]\n",
      "    ----\n",
      "    MEAN:     [4453192.03999147] + [559560.04519757]\n",
      "    FULL:     [4452964.96953402]\n",
      "\n"
     ]
    }
   ],
   "source": [
    "#stacked model\n",
    "\n",
    "models = [ RandomForestRegressor(), DecisionTreeRegressor(), MLPRegressor() ]\n",
    "\n",
    "S_Train, S_Test = stacking(models,\n",
    "                           X_train, Y_train, X_test,\n",
    "                           regression=True,\n",
    "\n",
    "                           mode='oof_pred_bag',\n",
    "\n",
    "                           needs_proba=False,\n",
    "\n",
    "                           n_folds=5,\n",
    "\n",
    "                           stratified=True,\n",
    "\n",
    "                           shuffle=True,\n",
    "\n",
    "                           random_state=0,\n",
    "\n",
    "                           verbose=2)"
   ]
  },
  {
   "cell_type": "code",
   "execution_count": 103,
   "metadata": {
    "id": "OMcDF174OdLo"
   },
   "outputs": [],
   "source": [
    "S_TrainFinal=pd.DataFrame(S_Train)\n",
    "S_TrainFinal.to_csv(r'/content/drive/MyDrive/Colab Notebooks/STrain.csv')"
   ]
  },
  {
   "cell_type": "code",
   "execution_count": 104,
   "metadata": {
    "id": "La4JaabmIX9w"
   },
   "outputs": [],
   "source": [
    "S_TestFinal=pd.DataFrame(S_Test)\n",
    "S_TestFinal.to_csv(r'/content/drive/MyDrive/Colab Notebooks/STest.csv')"
   ]
  },
  {
   "cell_type": "code",
   "execution_count": 105,
   "metadata": {
    "colab": {
     "base_uri": "https://localhost:8080/"
    },
    "id": "UvaHA0VdIYAH",
    "outputId": "f7698783-0515-4cab-8819-4a3c6da37a8a"
   },
   "outputs": [
    {
     "name": "stdout",
     "output_type": "stream",
     "text": [
      "Best Hyperparameters: {'max_depth': 9, 'max_features': 'log2', 'min_samples_leaf': 19, 'min_samples_split': 17, 'random_state': 42}\n"
     ]
    }
   ],
   "source": [
    "#finding best hyperparameters for the stacked model\n",
    "\n",
    "param_dist = {\n",
    "    'max_depth': randint(1, 20),\n",
    "    'min_samples_split': randint(2, 20),\n",
    "    'min_samples_leaf': randint(1, 20),\n",
    "    'max_features': ['auto', 'sqrt', 'log2', None],\n",
    "    'random_state': [42]\n",
    "}\n",
    "\n",
    "random_search = RandomizedSearchCV(dt, param_distributions=param_dist, n_iter=100, cv=5, n_jobs=-1, random_state=42)\n",
    "random_search.fit(S_Train, Y_train)\n",
    "\n",
    "print(\"Best Hyperparameters:\", random_search.best_params_)\n",
    "best_params=random_search.best_params_"
   ]
  },
  {
   "cell_type": "code",
   "execution_count": 106,
   "metadata": {
    "colab": {
     "base_uri": "https://localhost:8080/"
    },
    "id": "D6YHHZKQIYCA",
    "outputId": "2b1787ff-d2eb-4129-9731-b6ff71f3d04a"
   },
   "outputs": [
    {
     "name": "stdout",
     "output_type": "stream",
     "text": [
      "RMSE (training) for Random Forest:6391818006330.934570\n"
     ]
    }
   ],
   "source": [
    "#using the best parameters in the stacked model\n",
    "\n",
    "dt_sm = DecisionTreeRegressor(**random_search.best_params_)\n",
    "dt_sm.fit(S_train, Y_train)\n",
    "Y_pred_dt_sm=dt_sm.predict(S_train)\n",
    "\n",
    "mean_squared_error(Y_train,Y_pred_dt_sm)\n",
    "print(\"RMSE (training) for Random Forest:{0:10f}\".format(mean_squared_error(Y_train,Y_pred_dt_sm)))\n",
    "Y_pred_testdt_sm=dt_sm.predict(X_test)\n",
    "\n",
    "y_preddt_sm=pd.DataFrame(Y_pred_testdt2)\n",
    "y_pred_dtsm=pd.concat([test.iloc[:,0],y_preddt_sm],axis=1)\n",
    "y_pred_dtsm.columns=['Id', 'Prediction']\n",
    "y_pred_dtsm.to_csv(r'/content/drive/MyDrive/Colab Notebooks/dt_sm_ht.csv')"
   ]
  }
 ],
 "metadata": {
  "colab": {
   "provenance": []
  },
  "kernelspec": {
   "display_name": "Python 3 (ipykernel)",
   "language": "python",
   "name": "python3"
  },
  "language_info": {
   "codemirror_mode": {
    "name": "ipython",
    "version": 3
   },
   "file_extension": ".py",
   "mimetype": "text/x-python",
   "name": "python",
   "nbconvert_exporter": "python",
   "pygments_lexer": "ipython3",
   "version": "3.11.4"
  }
 },
 "nbformat": 4,
 "nbformat_minor": 1
}
